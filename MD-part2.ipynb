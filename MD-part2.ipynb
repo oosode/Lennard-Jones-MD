{
 "cells": [
  {
   "cell_type": "code",
   "execution_count": 1,
   "metadata": {},
   "outputs": [],
   "source": [
    "import random\n",
    "import copy\n",
    "import time\n",
    "import math\n",
    "import nglview"
   ]
  },
  {
   "cell_type": "code",
   "execution_count": 11,
   "metadata": {},
   "outputs": [],
   "source": [
    "#sigma = float(input('Enter inter-atomic distance: '))\n",
    "#natoms = int(input('Enter number of atoms: '))\n",
    "natoms = 3\n",
    "\n",
    "mass = [0.0]*natoms\n",
    "#m = input('Enter mass of atoms ')\n",
    "for n in range(natoms):\n",
    "    mass[n] = 39.5\n",
    "    \n",
    "coord = [[0.0 for tmp in range(3)] for n in range(natoms)]\n",
    "for n in range(natoms):\n",
    "    coord[n][0] = random.uniform(-4.0, 4.0)\n",
    "    coord[n][1] = random.uniform(-4.0, 4.0)\n",
    "    coord[n][2] = random.uniform(-4.0, 4.0)\n",
    "    \n",
    "vel = [[0.0 for tmp in range(3)] for n in range(natoms)]\n",
    "for n in range(natoms):\n",
    "    vel[n][0] = random.gauss(0,0.01)\n",
    "    vel[n][1] = random.gauss(0,0.01)\n",
    "    vel[n][2] = random.gauss(0,0.01)"
   ]
  },
  {
   "cell_type": "markdown",
   "metadata": {},
   "source": [
    "$$r=[(x_2-x_1)^2 + (y_2-y_1)^2 + (z_2-z_1)^2]^{\\frac{1}{2}}$$"
   ]
  },
  {
   "cell_type": "code",
   "execution_count": 12,
   "metadata": {},
   "outputs": [],
   "source": [
    "def distance(atom1,atom2):\n",
    "    x = atom2[0]-atom1[0]\n",
    "    y = atom2[1]-atom1[1]\n",
    "    z = atom2[2]-atom1[2]\n",
    "    \n",
    "    rr = x*x + y*y + z*z\n",
    "    return math.sqrt(rr)"
   ]
  },
  {
   "cell_type": "markdown",
   "metadata": {},
   "source": [
    "$$V_{ij}(r) = 4\\epsilon \\left[(\\frac{\\sigma}{r_{ij}})^{12}-(\\frac{\\sigma}{r_{ij}})^6 \\right]$$"
   ]
  },
  {
   "cell_type": "code",
   "execution_count": 13,
   "metadata": {},
   "outputs": [],
   "source": [
    "def lennard_jones(rr,sigma=0.3345,eps=0.0661):\n",
    "    \n",
    "    return 4*eps*(sigma**12/rr**12-sigma**6/rr**6)"
   ]
  },
  {
   "cell_type": "markdown",
   "metadata": {},
   "source": [
    "$$T = \\frac{1}{2}\\sum_i^N m_iv_i^2$$"
   ]
  },
  {
   "cell_type": "code",
   "execution_count": 14,
   "metadata": {},
   "outputs": [],
   "source": [
    "def kinetic_energy(natoms,mass,vel):\n",
    "    \n",
    "    sum = 0.0\n",
    "    for n in range(natoms):\n",
    "        vv = vel[n][0]**2 + vel[n][1]**2 + vel[n][2]**2\n",
    "        sum+=mass[n]*vv\n",
    "    return 0.5*sum\n"
   ]
  },
  {
   "cell_type": "markdown",
   "metadata": {},
   "source": [
    "$$V=\\sum_i\\sum_{j\\neq i}V_{ij}$$"
   ]
  },
  {
   "cell_type": "code",
   "execution_count": 15,
   "metadata": {},
   "outputs": [],
   "source": [
    "def potential_energy(natoms,coord):\n",
    "    pot=0\n",
    "    for n1 in range(natoms):\n",
    "        for n2 in range(n1+1,natoms):\n",
    "            r=distance(coord[n1],coord[n2])\n",
    "            pot+=lennard_jones(r) \n",
    "    \n",
    "    for n1 in range(natoms):\n",
    "        r=distance(coord[n1],[0,0,0])\n",
    "        if r>10:\n",
    "    #        pass\n",
    "            pot+=0.5*00.1*(r-4)**2\n",
    "    return pot"
   ]
  },
  {
   "cell_type": "markdown",
   "metadata": {},
   "source": [
    "$$E = T + V$$"
   ]
  },
  {
   "cell_type": "code",
   "execution_count": 16,
   "metadata": {},
   "outputs": [],
   "source": [
    "def energy(natoms,coord,mass,velocity):\n",
    "    pot=potential_energy(natoms,coord)\n",
    "    kin=kinetic_energy(natoms,mass,velocity)\n",
    "    \n",
    "    return kin+pot"
   ]
  },
  {
   "cell_type": "code",
   "execution_count": 17,
   "metadata": {},
   "outputs": [
    {
     "name": "stdout",
     "output_type": "stream",
     "text": [
      "potential energy: -0.000000\n",
      "kinetic energy: 0.024010\n",
      "total energy: 0.024010\n"
     ]
    }
   ],
   "source": [
    "nrg = energy(natoms,coord,mass,vel)\n",
    "print(\"potential energy: %f\"%(potential_energy(natoms,coord)))\n",
    "print(\"kinetic energy: %f\"%(kinetic_energy(natoms,mass,vel)))\n",
    "print(\"total energy: %f\"%(energy(natoms,coord,mass,vel)))"
   ]
  },
  {
   "cell_type": "code",
   "execution_count": 18,
   "metadata": {},
   "outputs": [
    {
     "name": "stdout",
     "output_type": "stream",
     "text": [
      "0.024010327162375632\n"
     ]
    }
   ],
   "source": [
    "print(nrg)"
   ]
  },
  {
   "cell_type": "markdown",
   "metadata": {},
   "source": [
    "$$\\frac{\\partial V}{\\partial x} \\approx \\frac{V(x+\\Delta x) - V(x-\\Delta x)}{2\\Delta x}  $$"
   ]
  },
  {
   "cell_type": "code",
   "execution_count": 19,
   "metadata": {},
   "outputs": [],
   "source": [
    "def finite_difference(natoms,coord):\n",
    "    dx = [[0.0 for tmp in range(3)] for n in range(natoms)]\n",
    "    \n",
    "    for n in range(natoms):\n",
    "        for l in range(3):\n",
    "            f=[0.0]*2\n",
    "            for i,x in enumerate((1,-1)):\n",
    "                crd = copy.deepcopy(coord)\n",
    "                crd[n][l]+=x*0.0001\n",
    "                \n",
    "                f[i]=potential_energy(natoms,crd)\n",
    "\n",
    "            dx[n][l]=(f[0]-f[1])/0.0002\n",
    "\n",
    "    return dx                "
   ]
  },
  {
   "cell_type": "code",
   "execution_count": null,
   "metadata": {},
   "outputs": [],
   "source": []
  },
  {
   "cell_type": "markdown",
   "metadata": {},
   "source": [
    "$${\\bf a} = -\\frac{1}{\\bf m}\\frac{\\partial V}{\\partial {\\bf x}}$$"
   ]
  },
  {
   "cell_type": "code",
   "execution_count": 20,
   "metadata": {},
   "outputs": [],
   "source": [
    "def acceleration(natoms,coord,mass):\n",
    "    a = [[0.0 for tmp in range(3)] for n in range(natoms)]\n",
    "    \n",
    "    dx = finite_difference(natoms,coord)\n",
    "    \n",
    "    for n in range(natoms):\n",
    "        for l in range(3):\n",
    "            a[n][l]=-1*dx[n][l]/mass[n]\n",
    "            \n",
    "    return a"
   ]
  },
  {
   "cell_type": "markdown",
   "metadata": {},
   "source": [
    "\n",
    "\n",
    "$${\\bf r}^{n+1} = {\\bf r}^{n} + {\\bf v}^{n}\\Delta t + {\\bf a}^{n}\\frac{{\\Delta t}^2}{2}$$\n",
    "$${\\bf v}^{n+1} = {\\bf v}^{n} + \\frac{1}{2}({\\bf a}^{n} + {\\bf a}^{n+1})\\Delta t $$"
   ]
  },
  {
   "cell_type": "code",
   "execution_count": 21,
   "metadata": {},
   "outputs": [],
   "source": [
    "def verlet(natoms,c0,v0,mass,ts):\n",
    "    \n",
    "    c1 = [[0.0 for tmp in range(3)] for n in range(natoms)]\n",
    "    v1 = [[0.0 for tmp in range(3)] for n in range(natoms)]\n",
    "    \n",
    "    a0 = acceleration(natoms,c0,mass)\n",
    "    \n",
    "    for n in range(natoms):\n",
    "        for l in range(3):\n",
    "            c1[n][l]=c0[n][l]+v0[n][l]*ts+a0[n][l]*ts**2/2\n",
    "    \n",
    "\n",
    "    a1 = acceleration(natoms,c1,mass)\n",
    "    \n",
    "    for n in range(natoms):\n",
    "        for l in range(3):\n",
    "            v1[n][l]=v0[n][l]+0.5*(a0[n][l]+a1[n][l])*ts\n",
    "    \n",
    "    return c1,v1"
   ]
  },
  {
   "cell_type": "code",
   "execution_count": 22,
   "metadata": {},
   "outputs": [],
   "source": [
    "def temperature(natoms,v):\n",
    "    avg=0\n",
    "    for i in range(natoms):\n",
    "        avg+=math.sqrt(v[i][0]**2+v[i][1]**2+v[i][2]**2)\n",
    "    avg/=natoms\n",
    "    \n",
    "    return avg*avg*math.pi*mass[0]/1000/8/8.314*1000"
   ]
  },
  {
   "cell_type": "code",
   "execution_count": 23,
   "metadata": {},
   "outputs": [],
   "source": [
    "def print_xyz(natoms,c,v,energy,step,temp,fname=\"traj.xyz\"):\n",
    "    fout=open(\"traj.xyz\",\"a\")\n",
    "    fout.write(\"%d\\n\"%(natoms))\n",
    "    fout.write(\"Step %4d E: %f K: %f\\n\"%(step,energy,temp))\n",
    "    for n in range(natoms):\n",
    "        fout.write(\"Ar %10.7f %10.7f %10.7f %10.7f %10.7f %10.7f\\n\"%(c[n][0],c[n][1],c[n][2],\\\n",
    "                                                                   v[n][0],v[n][1],v[n][2]))\n",
    "    fout.close()\n",
    "    return\n",
    "        "
   ]
  },
  {
   "cell_type": "code",
   "execution_count": 24,
   "metadata": {},
   "outputs": [
    {
     "ename": "KeyboardInterrupt",
     "evalue": "",
     "output_type": "error",
     "traceback": [
      "\u001b[0;31m---------------------------------------------------------------------------\u001b[0m",
      "\u001b[0;31mKeyboardInterrupt\u001b[0m                         Traceback (most recent call last)",
      "\u001b[0;32m<ipython-input-24-efe26202a41a>\u001b[0m in \u001b[0;36m<module>\u001b[0;34m\u001b[0m\n\u001b[1;32m     11\u001b[0m     \u001b[0;31m#print(v[1][0])\u001b[0m\u001b[0;34m\u001b[0m\u001b[0;34m\u001b[0m\u001b[0m\n\u001b[1;32m     12\u001b[0m \u001b[0;34m\u001b[0m\u001b[0m\n\u001b[0;32m---> 13\u001b[0;31m     \u001b[0mc\u001b[0m\u001b[0;34m,\u001b[0m\u001b[0mv\u001b[0m\u001b[0;34m=\u001b[0m\u001b[0mverlet\u001b[0m\u001b[0;34m(\u001b[0m\u001b[0mnatoms\u001b[0m\u001b[0;34m,\u001b[0m\u001b[0mc\u001b[0m\u001b[0;34m,\u001b[0m\u001b[0mv\u001b[0m\u001b[0;34m,\u001b[0m\u001b[0mmass\u001b[0m\u001b[0;34m,\u001b[0m\u001b[0;36m0.1\u001b[0m\u001b[0;34m)\u001b[0m\u001b[0;34m\u001b[0m\u001b[0m\n\u001b[0m\u001b[1;32m     14\u001b[0m     \u001b[0;31m#print(v)\u001b[0m\u001b[0;34m\u001b[0m\u001b[0;34m\u001b[0m\u001b[0m\n",
      "\u001b[0;32m<ipython-input-21-02cbd41d8d0b>\u001b[0m in \u001b[0;36mverlet\u001b[0;34m(natoms, c0, v0, mass, ts)\u001b[0m\n\u001b[1;32m      8\u001b[0m     \u001b[0;32mfor\u001b[0m \u001b[0mn\u001b[0m \u001b[0;32min\u001b[0m \u001b[0mrange\u001b[0m\u001b[0;34m(\u001b[0m\u001b[0mnatoms\u001b[0m\u001b[0;34m)\u001b[0m\u001b[0;34m:\u001b[0m\u001b[0;34m\u001b[0m\u001b[0m\n\u001b[1;32m      9\u001b[0m         \u001b[0;32mfor\u001b[0m \u001b[0ml\u001b[0m \u001b[0;32min\u001b[0m \u001b[0mrange\u001b[0m\u001b[0;34m(\u001b[0m\u001b[0;36m3\u001b[0m\u001b[0;34m)\u001b[0m\u001b[0;34m:\u001b[0m\u001b[0;34m\u001b[0m\u001b[0m\n\u001b[0;32m---> 10\u001b[0;31m             \u001b[0mc1\u001b[0m\u001b[0;34m[\u001b[0m\u001b[0mn\u001b[0m\u001b[0;34m]\u001b[0m\u001b[0;34m[\u001b[0m\u001b[0ml\u001b[0m\u001b[0;34m]\u001b[0m\u001b[0;34m=\u001b[0m\u001b[0mc0\u001b[0m\u001b[0;34m[\u001b[0m\u001b[0mn\u001b[0m\u001b[0;34m]\u001b[0m\u001b[0;34m[\u001b[0m\u001b[0ml\u001b[0m\u001b[0;34m]\u001b[0m\u001b[0;34m+\u001b[0m\u001b[0mv0\u001b[0m\u001b[0;34m[\u001b[0m\u001b[0mn\u001b[0m\u001b[0;34m]\u001b[0m\u001b[0;34m[\u001b[0m\u001b[0ml\u001b[0m\u001b[0;34m]\u001b[0m\u001b[0;34m*\u001b[0m\u001b[0mts\u001b[0m\u001b[0;34m+\u001b[0m\u001b[0ma0\u001b[0m\u001b[0;34m[\u001b[0m\u001b[0mn\u001b[0m\u001b[0;34m]\u001b[0m\u001b[0;34m[\u001b[0m\u001b[0ml\u001b[0m\u001b[0;34m]\u001b[0m\u001b[0;34m*\u001b[0m\u001b[0mts\u001b[0m\u001b[0;34m**\u001b[0m\u001b[0;36m2\u001b[0m\u001b[0;34m/\u001b[0m\u001b[0;36m2\u001b[0m\u001b[0;34m\u001b[0m\u001b[0m\n\u001b[0m\u001b[1;32m     11\u001b[0m \u001b[0;34m\u001b[0m\u001b[0m\n\u001b[1;32m     12\u001b[0m \u001b[0;34m\u001b[0m\u001b[0m\n",
      "\u001b[0;31mKeyboardInterrupt\u001b[0m: "
     ]
    }
   ],
   "source": [
    "c=coord\n",
    "v=vel\n",
    "fname=\"traj.xyz\"\n",
    "open(fname, 'w').close()\n",
    "for step in range(100000):\n",
    "    \n",
    "    nrg=energy(natoms,c,mass,v)\n",
    "    temp=temperature(natoms,v)\n",
    "    \n",
    "    print_xyz(natoms,c,v,nrg,step,temp)\n",
    "    #print(v[1][0])\n",
    "    \n",
    "    c,v=verlet(natoms,c,v,mass,0.1)\n",
    "    #print(v)"
   ]
  },
  {
   "cell_type": "code",
   "execution_count": 27,
   "metadata": {},
   "outputs": [],
   "source": [
    "from nglview.datafiles import PDB, XTC"
   ]
  },
  {
   "cell_type": "code",
   "execution_count": null,
   "metadata": {},
   "outputs": [],
   "source": []
  },
  {
   "cell_type": "code",
   "execution_count": null,
   "metadata": {},
   "outputs": [],
   "source": []
  },
  {
   "cell_type": "code",
   "execution_count": null,
   "metadata": {},
   "outputs": [],
   "source": []
  }
 ],
 "metadata": {
  "kernelspec": {
   "display_name": "Python 3",
   "language": "python",
   "name": "python3"
  },
  "language_info": {
   "codemirror_mode": {
    "name": "ipython",
    "version": 3
   },
   "file_extension": ".py",
   "mimetype": "text/x-python",
   "name": "python",
   "nbconvert_exporter": "python",
   "pygments_lexer": "ipython3",
   "version": "3.6.4"
  }
 },
 "nbformat": 4,
 "nbformat_minor": 2
}
